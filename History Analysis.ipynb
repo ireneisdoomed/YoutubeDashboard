{
 "cells": [
  {
   "cell_type": "markdown",
   "metadata": {},
   "source": [
    "# Exploring Youtube Activity 🤓"
   ]
  },
  {
   "cell_type": "code",
   "execution_count": 1,
   "metadata": {},
   "outputs": [],
   "source": [
    "import pandas as pd\n",
    "import numpy as np"
   ]
  },
  {
   "cell_type": "code",
   "execution_count": 2,
   "metadata": {},
   "outputs": [
    {
     "data": {
      "text/html": [
       "<div>\n",
       "<style scoped>\n",
       "    .dataframe tbody tr th:only-of-type {\n",
       "        vertical-align: middle;\n",
       "    }\n",
       "\n",
       "    .dataframe tbody tr th {\n",
       "        vertical-align: top;\n",
       "    }\n",
       "\n",
       "    .dataframe thead th {\n",
       "        text-align: right;\n",
       "    }\n",
       "</style>\n",
       "<table border=\"1\" class=\"dataframe\">\n",
       "  <thead>\n",
       "    <tr style=\"text-align: right;\">\n",
       "      <th></th>\n",
       "      <th>header</th>\n",
       "      <th>title</th>\n",
       "      <th>titleUrl</th>\n",
       "      <th>subtitles</th>\n",
       "      <th>time</th>\n",
       "      <th>products</th>\n",
       "      <th>details</th>\n",
       "      <th>description</th>\n",
       "    </tr>\n",
       "  </thead>\n",
       "  <tbody>\n",
       "    <tr>\n",
       "      <th>0</th>\n",
       "      <td>YouTube</td>\n",
       "      <td>Has visto BEAUTIFUL BOY Cast and Crew Q&amp;A | TI...</td>\n",
       "      <td>https://www.youtube.com/watch?v=lzAi4JNShxA</td>\n",
       "      <td>[{'name': 'TIFF Talks', 'url': 'https://www.yo...</td>\n",
       "      <td>2020-07-19T10:15:29.344Z</td>\n",
       "      <td>[YouTube]</td>\n",
       "      <td>None</td>\n",
       "      <td>None</td>\n",
       "    </tr>\n",
       "    <tr>\n",
       "      <th>1</th>\n",
       "      <td>YouTube</td>\n",
       "      <td>Has visto Come si usa la parola ANZI 2020 [ITA...</td>\n",
       "      <td>https://www.youtube.com/watch?v=2YlHfcngY8Y</td>\n",
       "      <td>[{'name': 'piazzasquare', 'url': 'https://www....</td>\n",
       "      <td>2020-07-19T10:10:58.736Z</td>\n",
       "      <td>[YouTube]</td>\n",
       "      <td>None</td>\n",
       "      <td>None</td>\n",
       "    </tr>\n",
       "    <tr>\n",
       "      <th>2</th>\n",
       "      <td>YouTube</td>\n",
       "      <td>Has visto 3 Books that Changed my Life</td>\n",
       "      <td>https://www.youtube.com/watch?v=hv1gOEY3cs4</td>\n",
       "      <td>[{'name': 'Ali Abdaal', 'url': 'https://www.yo...</td>\n",
       "      <td>2020-07-19T10:09:56.361Z</td>\n",
       "      <td>[YouTube]</td>\n",
       "      <td>None</td>\n",
       "      <td>None</td>\n",
       "    </tr>\n",
       "    <tr>\n",
       "      <th>3</th>\n",
       "      <td>YouTube</td>\n",
       "      <td>Has visto Armie Hammer guides us through the C...</td>\n",
       "      <td>https://www.youtube.com/watch?v=JU6QfohcnaY</td>\n",
       "      <td>[{'name': 'British GQ', 'url': 'https://www.yo...</td>\n",
       "      <td>2020-07-19T10:03:01.164Z</td>\n",
       "      <td>[YouTube]</td>\n",
       "      <td>None</td>\n",
       "      <td>None</td>\n",
       "    </tr>\n",
       "    <tr>\n",
       "      <th>4</th>\n",
       "      <td>YouTube</td>\n",
       "      <td>Has visto Day in the Life as a Doctor (Gynaeco...</td>\n",
       "      <td>https://www.youtube.com/watch?v=cYyIpzlkq7E</td>\n",
       "      <td>[{'name': 'Ali Abdaal', 'url': 'https://www.yo...</td>\n",
       "      <td>2020-07-18T16:50:03.256Z</td>\n",
       "      <td>[YouTube]</td>\n",
       "      <td>None</td>\n",
       "      <td>None</td>\n",
       "    </tr>\n",
       "  </tbody>\n",
       "</table>\n",
       "</div>"
      ],
      "text/plain": [
       "    header                                              title  \\\n",
       "0  YouTube  Has visto BEAUTIFUL BOY Cast and Crew Q&A | TI...   \n",
       "1  YouTube  Has visto Come si usa la parola ANZI 2020 [ITA...   \n",
       "2  YouTube             Has visto 3 Books that Changed my Life   \n",
       "3  YouTube  Has visto Armie Hammer guides us through the C...   \n",
       "4  YouTube  Has visto Day in the Life as a Doctor (Gynaeco...   \n",
       "\n",
       "                                      titleUrl  \\\n",
       "0  https://www.youtube.com/watch?v=lzAi4JNShxA   \n",
       "1  https://www.youtube.com/watch?v=2YlHfcngY8Y   \n",
       "2  https://www.youtube.com/watch?v=hv1gOEY3cs4   \n",
       "3  https://www.youtube.com/watch?v=JU6QfohcnaY   \n",
       "4  https://www.youtube.com/watch?v=cYyIpzlkq7E   \n",
       "\n",
       "                                           subtitles  \\\n",
       "0  [{'name': 'TIFF Talks', 'url': 'https://www.yo...   \n",
       "1  [{'name': 'piazzasquare', 'url': 'https://www....   \n",
       "2  [{'name': 'Ali Abdaal', 'url': 'https://www.yo...   \n",
       "3  [{'name': 'British GQ', 'url': 'https://www.yo...   \n",
       "4  [{'name': 'Ali Abdaal', 'url': 'https://www.yo...   \n",
       "\n",
       "                       time   products details description  \n",
       "0  2020-07-19T10:15:29.344Z  [YouTube]    None        None  \n",
       "1  2020-07-19T10:10:58.736Z  [YouTube]    None        None  \n",
       "2  2020-07-19T10:09:56.361Z  [YouTube]    None        None  \n",
       "3  2020-07-19T10:03:01.164Z  [YouTube]    None        None  \n",
       "4  2020-07-18T16:50:03.256Z  [YouTube]    None        None  "
      ]
     },
     "execution_count": 2,
     "metadata": {},
     "output_type": "execute_result"
    }
   ],
   "source": [
    "hist = pd.read_json(\"data/historial-de-reproducciones.json\")\n",
    "hist.head()"
   ]
  },
  {
   "cell_type": "code",
   "execution_count": 3,
   "metadata": {},
   "outputs": [
    {
     "name": "stdout",
     "output_type": "stream",
     "text": [
      "Shape: (14196, 8)\n",
      "\n",
      "Number of NaNs per column:\n"
     ]
    },
    {
     "data": {
      "text/plain": [
       "header             0\n",
       "title              0\n",
       "titleUrl         536\n",
       "subtitles       1344\n",
       "time               0\n",
       "products           0\n",
       "details        14190\n",
       "description    14165\n",
       "dtype: int64"
      ]
     },
     "execution_count": 3,
     "metadata": {},
     "output_type": "execute_result"
    }
   ],
   "source": [
    "print(f\"Shape: {hist.shape}\\n\")\n",
    "print(\"Number of NaNs per column:\")\n",
    "hist.isna().sum()"
   ]
  },
  {
   "cell_type": "code",
   "execution_count": 4,
   "metadata": {},
   "outputs": [
    {
     "data": {
      "text/html": [
       "<div>\n",
       "<style scoped>\n",
       "    .dataframe tbody tr th:only-of-type {\n",
       "        vertical-align: middle;\n",
       "    }\n",
       "\n",
       "    .dataframe tbody tr th {\n",
       "        vertical-align: top;\n",
       "    }\n",
       "\n",
       "    .dataframe thead th {\n",
       "        text-align: right;\n",
       "    }\n",
       "</style>\n",
       "<table border=\"1\" class=\"dataframe\">\n",
       "  <thead>\n",
       "    <tr style=\"text-align: right;\">\n",
       "      <th></th>\n",
       "      <th>title</th>\n",
       "      <th>titleUrl</th>\n",
       "      <th>subtitles</th>\n",
       "      <th>time</th>\n",
       "    </tr>\n",
       "  </thead>\n",
       "  <tbody>\n",
       "    <tr>\n",
       "      <th>0</th>\n",
       "      <td>Has visto BEAUTIFUL BOY Cast and Crew Q&amp;A | TI...</td>\n",
       "      <td>https://www.youtube.com/watch?v=lzAi4JNShxA</td>\n",
       "      <td>[{'name': 'TIFF Talks', 'url': 'https://www.yo...</td>\n",
       "      <td>2020-07-19T10:15:29.344Z</td>\n",
       "    </tr>\n",
       "    <tr>\n",
       "      <th>1</th>\n",
       "      <td>Has visto Come si usa la parola ANZI 2020 [ITA...</td>\n",
       "      <td>https://www.youtube.com/watch?v=2YlHfcngY8Y</td>\n",
       "      <td>[{'name': 'piazzasquare', 'url': 'https://www....</td>\n",
       "      <td>2020-07-19T10:10:58.736Z</td>\n",
       "    </tr>\n",
       "    <tr>\n",
       "      <th>2</th>\n",
       "      <td>Has visto 3 Books that Changed my Life</td>\n",
       "      <td>https://www.youtube.com/watch?v=hv1gOEY3cs4</td>\n",
       "      <td>[{'name': 'Ali Abdaal', 'url': 'https://www.yo...</td>\n",
       "      <td>2020-07-19T10:09:56.361Z</td>\n",
       "    </tr>\n",
       "    <tr>\n",
       "      <th>3</th>\n",
       "      <td>Has visto Armie Hammer guides us through the C...</td>\n",
       "      <td>https://www.youtube.com/watch?v=JU6QfohcnaY</td>\n",
       "      <td>[{'name': 'British GQ', 'url': 'https://www.yo...</td>\n",
       "      <td>2020-07-19T10:03:01.164Z</td>\n",
       "    </tr>\n",
       "    <tr>\n",
       "      <th>4</th>\n",
       "      <td>Has visto Day in the Life as a Doctor (Gynaeco...</td>\n",
       "      <td>https://www.youtube.com/watch?v=cYyIpzlkq7E</td>\n",
       "      <td>[{'name': 'Ali Abdaal', 'url': 'https://www.yo...</td>\n",
       "      <td>2020-07-18T16:50:03.256Z</td>\n",
       "    </tr>\n",
       "  </tbody>\n",
       "</table>\n",
       "</div>"
      ],
      "text/plain": [
       "                                               title  \\\n",
       "0  Has visto BEAUTIFUL BOY Cast and Crew Q&A | TI...   \n",
       "1  Has visto Come si usa la parola ANZI 2020 [ITA...   \n",
       "2             Has visto 3 Books that Changed my Life   \n",
       "3  Has visto Armie Hammer guides us through the C...   \n",
       "4  Has visto Day in the Life as a Doctor (Gynaeco...   \n",
       "\n",
       "                                      titleUrl  \\\n",
       "0  https://www.youtube.com/watch?v=lzAi4JNShxA   \n",
       "1  https://www.youtube.com/watch?v=2YlHfcngY8Y   \n",
       "2  https://www.youtube.com/watch?v=hv1gOEY3cs4   \n",
       "3  https://www.youtube.com/watch?v=JU6QfohcnaY   \n",
       "4  https://www.youtube.com/watch?v=cYyIpzlkq7E   \n",
       "\n",
       "                                           subtitles                      time  \n",
       "0  [{'name': 'TIFF Talks', 'url': 'https://www.yo...  2020-07-19T10:15:29.344Z  \n",
       "1  [{'name': 'piazzasquare', 'url': 'https://www....  2020-07-19T10:10:58.736Z  \n",
       "2  [{'name': 'Ali Abdaal', 'url': 'https://www.yo...  2020-07-19T10:09:56.361Z  \n",
       "3  [{'name': 'British GQ', 'url': 'https://www.yo...  2020-07-19T10:03:01.164Z  \n",
       "4  [{'name': 'Ali Abdaal', 'url': 'https://www.yo...  2020-07-18T16:50:03.256Z  "
      ]
     },
     "execution_count": 4,
     "metadata": {},
     "output_type": "execute_result"
    }
   ],
   "source": [
    "# Dropping unnecessary columns\n",
    "\n",
    "columns = \"title, titleUrl, subtitles, time\".split(\", \")\n",
    "hist =  pd.DataFrame(hist, columns=columns)\n",
    "\n",
    "hist.head()"
   ]
  },
  {
   "cell_type": "markdown",
   "metadata": {},
   "source": [
    "## Cleaning \"title\""
   ]
  },
  {
   "cell_type": "code",
   "execution_count": 5,
   "metadata": {},
   "outputs": [],
   "source": [
    "hist[\"title\"] = hist[\"title\"].apply(lambda x: x.replace(\"Has visto \", \"\"))"
   ]
  },
  {
   "cell_type": "code",
   "execution_count": 6,
   "metadata": {},
   "outputs": [
    {
     "data": {
      "text/html": [
       "<div>\n",
       "<style scoped>\n",
       "    .dataframe tbody tr th:only-of-type {\n",
       "        vertical-align: middle;\n",
       "    }\n",
       "\n",
       "    .dataframe tbody tr th {\n",
       "        vertical-align: top;\n",
       "    }\n",
       "\n",
       "    .dataframe thead th {\n",
       "        text-align: right;\n",
       "    }\n",
       "</style>\n",
       "<table border=\"1\" class=\"dataframe\">\n",
       "  <thead>\n",
       "    <tr style=\"text-align: right;\">\n",
       "      <th></th>\n",
       "      <th>title</th>\n",
       "      <th>titleUrl</th>\n",
       "      <th>subtitles</th>\n",
       "      <th>time</th>\n",
       "    </tr>\n",
       "  </thead>\n",
       "  <tbody>\n",
       "    <tr>\n",
       "      <th>0</th>\n",
       "      <td>BEAUTIFUL BOY Cast and Crew Q&amp;A | TIFF 2018</td>\n",
       "      <td>https://www.youtube.com/watch?v=lzAi4JNShxA</td>\n",
       "      <td>[{'name': 'TIFF Talks', 'url': 'https://www.yo...</td>\n",
       "      <td>2020-07-19T10:15:29.344Z</td>\n",
       "    </tr>\n",
       "    <tr>\n",
       "      <th>1</th>\n",
       "      <td>Come si usa la parola ANZI 2020 [ITA with SUBS]</td>\n",
       "      <td>https://www.youtube.com/watch?v=2YlHfcngY8Y</td>\n",
       "      <td>[{'name': 'piazzasquare', 'url': 'https://www....</td>\n",
       "      <td>2020-07-19T10:10:58.736Z</td>\n",
       "    </tr>\n",
       "    <tr>\n",
       "      <th>2</th>\n",
       "      <td>3 Books that Changed my Life</td>\n",
       "      <td>https://www.youtube.com/watch?v=hv1gOEY3cs4</td>\n",
       "      <td>[{'name': 'Ali Abdaal', 'url': 'https://www.yo...</td>\n",
       "      <td>2020-07-19T10:09:56.361Z</td>\n",
       "    </tr>\n",
       "    <tr>\n",
       "      <th>3</th>\n",
       "      <td>Armie Hammer guides us through the Call Me By ...</td>\n",
       "      <td>https://www.youtube.com/watch?v=JU6QfohcnaY</td>\n",
       "      <td>[{'name': 'British GQ', 'url': 'https://www.yo...</td>\n",
       "      <td>2020-07-19T10:03:01.164Z</td>\n",
       "    </tr>\n",
       "    <tr>\n",
       "      <th>4</th>\n",
       "      <td>Day in the Life as a Doctor (Gynaecology)</td>\n",
       "      <td>https://www.youtube.com/watch?v=cYyIpzlkq7E</td>\n",
       "      <td>[{'name': 'Ali Abdaal', 'url': 'https://www.yo...</td>\n",
       "      <td>2020-07-18T16:50:03.256Z</td>\n",
       "    </tr>\n",
       "  </tbody>\n",
       "</table>\n",
       "</div>"
      ],
      "text/plain": [
       "                                               title  \\\n",
       "0        BEAUTIFUL BOY Cast and Crew Q&A | TIFF 2018   \n",
       "1    Come si usa la parola ANZI 2020 [ITA with SUBS]   \n",
       "2                       3 Books that Changed my Life   \n",
       "3  Armie Hammer guides us through the Call Me By ...   \n",
       "4          Day in the Life as a Doctor (Gynaecology)   \n",
       "\n",
       "                                      titleUrl  \\\n",
       "0  https://www.youtube.com/watch?v=lzAi4JNShxA   \n",
       "1  https://www.youtube.com/watch?v=2YlHfcngY8Y   \n",
       "2  https://www.youtube.com/watch?v=hv1gOEY3cs4   \n",
       "3  https://www.youtube.com/watch?v=JU6QfohcnaY   \n",
       "4  https://www.youtube.com/watch?v=cYyIpzlkq7E   \n",
       "\n",
       "                                           subtitles                      time  \n",
       "0  [{'name': 'TIFF Talks', 'url': 'https://www.yo...  2020-07-19T10:15:29.344Z  \n",
       "1  [{'name': 'piazzasquare', 'url': 'https://www....  2020-07-19T10:10:58.736Z  \n",
       "2  [{'name': 'Ali Abdaal', 'url': 'https://www.yo...  2020-07-19T10:09:56.361Z  \n",
       "3  [{'name': 'British GQ', 'url': 'https://www.yo...  2020-07-19T10:03:01.164Z  \n",
       "4  [{'name': 'Ali Abdaal', 'url': 'https://www.yo...  2020-07-18T16:50:03.256Z  "
      ]
     },
     "execution_count": 6,
     "metadata": {},
     "output_type": "execute_result"
    }
   ],
   "source": [
    "hist.head()"
   ]
  },
  {
   "cell_type": "markdown",
   "metadata": {},
   "source": [
    "## Cleaning \"subtitles\""
   ]
  },
  {
   "cell_type": "code",
   "execution_count": 7,
   "metadata": {},
   "outputs": [
    {
     "data": {
      "text/plain": [
       "[{'name': 'TIFF Talks',\n",
       "  'url': 'https://www.youtube.com/channel/UCJ_s4mjdf0ZWxdX21H5I2Bw'}]"
      ]
     },
     "execution_count": 7,
     "metadata": {},
     "output_type": "execute_result"
    }
   ],
   "source": [
    "# Only interested in the name of the channel\n",
    "\n",
    "hist[\"subtitles\"][0]"
   ]
  },
  {
   "cell_type": "code",
   "execution_count": 8,
   "metadata": {},
   "outputs": [
    {
     "data": {
      "text/plain": [
       "'TIFF Talks'"
      ]
     },
     "execution_count": 8,
     "metadata": {},
     "output_type": "execute_result"
    }
   ],
   "source": [
    "hist[\"subtitles\"][0][0][\"name\"]"
   ]
  },
  {
   "cell_type": "code",
   "execution_count": 9,
   "metadata": {},
   "outputs": [
    {
     "data": {
      "text/html": [
       "<div>\n",
       "<style scoped>\n",
       "    .dataframe tbody tr th:only-of-type {\n",
       "        vertical-align: middle;\n",
       "    }\n",
       "\n",
       "    .dataframe tbody tr th {\n",
       "        vertical-align: top;\n",
       "    }\n",
       "\n",
       "    .dataframe thead th {\n",
       "        text-align: right;\n",
       "    }\n",
       "</style>\n",
       "<table border=\"1\" class=\"dataframe\">\n",
       "  <thead>\n",
       "    <tr style=\"text-align: right;\">\n",
       "      <th></th>\n",
       "      <th>title</th>\n",
       "      <th>titleUrl</th>\n",
       "      <th>time</th>\n",
       "      <th>channel</th>\n",
       "    </tr>\n",
       "  </thead>\n",
       "  <tbody>\n",
       "    <tr>\n",
       "      <th>0</th>\n",
       "      <td>BEAUTIFUL BOY Cast and Crew Q&amp;A | TIFF 2018</td>\n",
       "      <td>https://www.youtube.com/watch?v=lzAi4JNShxA</td>\n",
       "      <td>2020-07-19T10:15:29.344Z</td>\n",
       "      <td>TIFF Talks</td>\n",
       "    </tr>\n",
       "    <tr>\n",
       "      <th>1</th>\n",
       "      <td>Come si usa la parola ANZI 2020 [ITA with SUBS]</td>\n",
       "      <td>https://www.youtube.com/watch?v=2YlHfcngY8Y</td>\n",
       "      <td>2020-07-19T10:10:58.736Z</td>\n",
       "      <td>piazzasquare</td>\n",
       "    </tr>\n",
       "    <tr>\n",
       "      <th>2</th>\n",
       "      <td>3 Books that Changed my Life</td>\n",
       "      <td>https://www.youtube.com/watch?v=hv1gOEY3cs4</td>\n",
       "      <td>2020-07-19T10:09:56.361Z</td>\n",
       "      <td>Ali Abdaal</td>\n",
       "    </tr>\n",
       "    <tr>\n",
       "      <th>3</th>\n",
       "      <td>Armie Hammer guides us through the Call Me By ...</td>\n",
       "      <td>https://www.youtube.com/watch?v=JU6QfohcnaY</td>\n",
       "      <td>2020-07-19T10:03:01.164Z</td>\n",
       "      <td>British GQ</td>\n",
       "    </tr>\n",
       "    <tr>\n",
       "      <th>4</th>\n",
       "      <td>Day in the Life as a Doctor (Gynaecology)</td>\n",
       "      <td>https://www.youtube.com/watch?v=cYyIpzlkq7E</td>\n",
       "      <td>2020-07-18T16:50:03.256Z</td>\n",
       "      <td>Ali Abdaal</td>\n",
       "    </tr>\n",
       "  </tbody>\n",
       "</table>\n",
       "</div>"
      ],
      "text/plain": [
       "                                               title  \\\n",
       "0        BEAUTIFUL BOY Cast and Crew Q&A | TIFF 2018   \n",
       "1    Come si usa la parola ANZI 2020 [ITA with SUBS]   \n",
       "2                       3 Books that Changed my Life   \n",
       "3  Armie Hammer guides us through the Call Me By ...   \n",
       "4          Day in the Life as a Doctor (Gynaecology)   \n",
       "\n",
       "                                      titleUrl                      time  \\\n",
       "0  https://www.youtube.com/watch?v=lzAi4JNShxA  2020-07-19T10:15:29.344Z   \n",
       "1  https://www.youtube.com/watch?v=2YlHfcngY8Y  2020-07-19T10:10:58.736Z   \n",
       "2  https://www.youtube.com/watch?v=hv1gOEY3cs4  2020-07-19T10:09:56.361Z   \n",
       "3  https://www.youtube.com/watch?v=JU6QfohcnaY  2020-07-19T10:03:01.164Z   \n",
       "4  https://www.youtube.com/watch?v=cYyIpzlkq7E  2020-07-18T16:50:03.256Z   \n",
       "\n",
       "        channel  \n",
       "0    TIFF Talks  \n",
       "1  piazzasquare  \n",
       "2    Ali Abdaal  \n",
       "3    British GQ  \n",
       "4    Ali Abdaal  "
      ]
     },
     "execution_count": 9,
     "metadata": {},
     "output_type": "execute_result"
    }
   ],
   "source": [
    "def channel(X):\n",
    "    try:\n",
    "        return X[0][\"name\"]\n",
    "    except Exception:\n",
    "        \"\"\n",
    "\n",
    "hist[\"channel\"] = hist[\"subtitles\"].apply(lambda x: channel(x))\n",
    "hist.drop(\"subtitles\", axis=1, inplace=True)\n",
    "\n",
    "hist.head()"
   ]
  },
  {
   "cell_type": "markdown",
   "metadata": {},
   "source": [
    "## Cleaning \"time\" - Last 2 weeks"
   ]
  },
  {
   "cell_type": "code",
   "execution_count": 10,
   "metadata": {},
   "outputs": [
    {
     "data": {
      "text/plain": [
       "title       object\n",
       "titleUrl    object\n",
       "time        object\n",
       "channel     object\n",
       "dtype: object"
      ]
     },
     "execution_count": 10,
     "metadata": {},
     "output_type": "execute_result"
    }
   ],
   "source": [
    "hist.dtypes"
   ]
  },
  {
   "cell_type": "code",
   "execution_count": 11,
   "metadata": {},
   "outputs": [
    {
     "name": "stdout",
     "output_type": "stream",
     "text": [
      "title       BEAUTIFUL BOY Cast and Crew Q&A | TIFF 2018\n",
      "titleUrl    https://www.youtube.com/watch?v=lzAi4JNShxA\n",
      "time                   2020-07-19 10:15:29.344000+00:00\n",
      "channel                                      TIFF Talks\n",
      "Name: 0, dtype: object\n"
     ]
    }
   ],
   "source": [
    "hist[\"time\"] = pd.to_datetime(hist[\"time\"])\n",
    "\n",
    "hist.dtypes\n",
    "print(hist.iloc[0])"
   ]
  },
  {
   "cell_type": "code",
   "execution_count": 12,
   "metadata": {},
   "outputs": [
    {
     "data": {
      "text/html": [
       "<div>\n",
       "<style scoped>\n",
       "    .dataframe tbody tr th:only-of-type {\n",
       "        vertical-align: middle;\n",
       "    }\n",
       "\n",
       "    .dataframe tbody tr th {\n",
       "        vertical-align: top;\n",
       "    }\n",
       "\n",
       "    .dataframe thead th {\n",
       "        text-align: right;\n",
       "    }\n",
       "</style>\n",
       "<table border=\"1\" class=\"dataframe\">\n",
       "  <thead>\n",
       "    <tr style=\"text-align: right;\">\n",
       "      <th></th>\n",
       "      <th>title</th>\n",
       "      <th>titleUrl</th>\n",
       "      <th>channel</th>\n",
       "    </tr>\n",
       "    <tr>\n",
       "      <th>time</th>\n",
       "      <th></th>\n",
       "      <th></th>\n",
       "      <th></th>\n",
       "    </tr>\n",
       "  </thead>\n",
       "  <tbody>\n",
       "    <tr>\n",
       "      <th>2020-01-01 13:50:10.240000+00:00</th>\n",
       "      <td>Study With Me - British Airways Business Class</td>\n",
       "      <td>https://www.youtube.com/watch?v=H7zolPUcJCM</td>\n",
       "      <td>Ali Abdaal</td>\n",
       "    </tr>\n",
       "    <tr>\n",
       "      <th>2020-01-01 13:26:04.833000+00:00</th>\n",
       "      <td>Boosted Mini S: Student's Review</td>\n",
       "      <td>https://www.youtube.com/watch?v=0y9P04ILOgA</td>\n",
       "      <td>Paul Bradford</td>\n",
       "    </tr>\n",
       "    <tr>\n",
       "      <th>2020-01-01 13:25:03.510000+00:00</th>\n",
       "      <td>Meepo Mini 2 Review: Speed and Torque!</td>\n",
       "      <td>https://www.youtube.com/watch?v=dYkEn7ajT5U</td>\n",
       "      <td>MDizzy</td>\n",
       "    </tr>\n",
       "    <tr>\n",
       "      <th>2020-01-01 13:16:01.474000+00:00</th>\n",
       "      <td>Meepo Mini 2 Unboxing!</td>\n",
       "      <td>https://www.youtube.com/watch?v=F1op23mph1E</td>\n",
       "      <td>MDizzy</td>\n",
       "    </tr>\n",
       "    <tr>\n",
       "      <th>2020-01-01 01:16:57.554000+00:00</th>\n",
       "      <td>He dejado mi trabajo por este motivo.. | MALBERT</td>\n",
       "      <td>https://www.youtube.com/watch?v=RsZiLn9jseE</td>\n",
       "      <td>Malbert</td>\n",
       "    </tr>\n",
       "  </tbody>\n",
       "</table>\n",
       "</div>"
      ],
      "text/plain": [
       "                                                                             title  \\\n",
       "time                                                                                 \n",
       "2020-01-01 13:50:10.240000+00:00    Study With Me - British Airways Business Class   \n",
       "2020-01-01 13:26:04.833000+00:00                  Boosted Mini S: Student's Review   \n",
       "2020-01-01 13:25:03.510000+00:00            Meepo Mini 2 Review: Speed and Torque!   \n",
       "2020-01-01 13:16:01.474000+00:00                            Meepo Mini 2 Unboxing!   \n",
       "2020-01-01 01:16:57.554000+00:00  He dejado mi trabajo por este motivo.. | MALBERT   \n",
       "\n",
       "                                                                     titleUrl  \\\n",
       "time                                                                            \n",
       "2020-01-01 13:50:10.240000+00:00  https://www.youtube.com/watch?v=H7zolPUcJCM   \n",
       "2020-01-01 13:26:04.833000+00:00  https://www.youtube.com/watch?v=0y9P04ILOgA   \n",
       "2020-01-01 13:25:03.510000+00:00  https://www.youtube.com/watch?v=dYkEn7ajT5U   \n",
       "2020-01-01 13:16:01.474000+00:00  https://www.youtube.com/watch?v=F1op23mph1E   \n",
       "2020-01-01 01:16:57.554000+00:00  https://www.youtube.com/watch?v=RsZiLn9jseE   \n",
       "\n",
       "                                        channel  \n",
       "time                                             \n",
       "2020-01-01 13:50:10.240000+00:00     Ali Abdaal  \n",
       "2020-01-01 13:26:04.833000+00:00  Paul Bradford  \n",
       "2020-01-01 13:25:03.510000+00:00         MDizzy  \n",
       "2020-01-01 13:16:01.474000+00:00         MDizzy  \n",
       "2020-01-01 01:16:57.554000+00:00        Malbert  "
      ]
     },
     "execution_count": 12,
     "metadata": {},
     "output_type": "execute_result"
    }
   ],
   "source": [
    "# Dataframe with 2020 data setting the time column as index so I can filter it\n",
    "\n",
    "hist = hist.set_index(\"time\")\n",
    "hist = hist[hist.index.year == 2020]\n",
    "\n",
    "hist.tail()"
   ]
  },
  {
   "cell_type": "code",
   "execution_count": 13,
   "metadata": {},
   "outputs": [
    {
     "data": {
      "text/plain": [
       "(77, 3)"
      ]
     },
     "execution_count": 13,
     "metadata": {},
     "output_type": "execute_result"
    }
   ],
   "source": [
    "current_week = pd.Timestamp.now().week\n",
    "last_week = current_week - 1\n",
    "\n",
    "hist = hist[(hist.index.week == 29) | (hist.index.week == 28)]\n",
    "\n",
    "hist.shape"
   ]
  },
  {
   "cell_type": "code",
   "execution_count": 14,
   "metadata": {},
   "outputs": [
    {
     "data": {
      "text/plain": [
       "30"
      ]
     },
     "execution_count": 14,
     "metadata": {},
     "output_type": "execute_result"
    }
   ],
   "source": [
    "pd.Timestamp.now().week"
   ]
  },
  {
   "cell_type": "markdown",
   "metadata": {},
   "source": [
    "## Getting Video Duration with Youtube API"
   ]
  },
  {
   "cell_type": "code",
   "execution_count": 15,
   "metadata": {},
   "outputs": [],
   "source": [
    "import os\n",
    "import requests\n",
    "from dotenv import load_dotenv\n",
    "\n",
    "load_dotenv()\n",
    "token = os.getenv(\"MY_APIKEY\")"
   ]
  },
  {
   "cell_type": "markdown",
   "metadata": {},
   "source": [
    "### Extract the video IDs from the URL"
   ]
  },
  {
   "cell_type": "code",
   "execution_count": 16,
   "metadata": {},
   "outputs": [
    {
     "name": "stdout",
     "output_type": "stream",
     "text": [
      "This is what I have:  https://www.youtube.com/watch?v=lzAi4JNShxA\n",
      "This is what I want:  lzAi4JNShxA\n"
     ]
    }
   ],
   "source": [
    "example_url = hist.iloc[0][\"titleUrl\"]\n",
    "print(\"This is what I have: \", example_url)\n",
    "print(\"This is what I want: \", example_url.split(\"watch?v=\")[-1])"
   ]
  },
  {
   "cell_type": "code",
   "execution_count": 17,
   "metadata": {},
   "outputs": [
    {
     "data": {
      "text/html": [
       "<div>\n",
       "<style scoped>\n",
       "    .dataframe tbody tr th:only-of-type {\n",
       "        vertical-align: middle;\n",
       "    }\n",
       "\n",
       "    .dataframe tbody tr th {\n",
       "        vertical-align: top;\n",
       "    }\n",
       "\n",
       "    .dataframe thead th {\n",
       "        text-align: right;\n",
       "    }\n",
       "</style>\n",
       "<table border=\"1\" class=\"dataframe\">\n",
       "  <thead>\n",
       "    <tr style=\"text-align: right;\">\n",
       "      <th></th>\n",
       "      <th>title</th>\n",
       "      <th>titleUrl</th>\n",
       "      <th>channel</th>\n",
       "      <th>titleID</th>\n",
       "    </tr>\n",
       "    <tr>\n",
       "      <th>time</th>\n",
       "      <th></th>\n",
       "      <th></th>\n",
       "      <th></th>\n",
       "      <th></th>\n",
       "    </tr>\n",
       "  </thead>\n",
       "  <tbody>\n",
       "    <tr>\n",
       "      <th>2020-07-19 10:15:29.344000+00:00</th>\n",
       "      <td>BEAUTIFUL BOY Cast and Crew Q&amp;A | TIFF 2018</td>\n",
       "      <td>https://www.youtube.com/watch?v=lzAi4JNShxA</td>\n",
       "      <td>TIFF Talks</td>\n",
       "      <td>lzAi4JNShxA</td>\n",
       "    </tr>\n",
       "    <tr>\n",
       "      <th>2020-07-19 10:10:58.736000+00:00</th>\n",
       "      <td>Come si usa la parola ANZI 2020 [ITA with SUBS]</td>\n",
       "      <td>https://www.youtube.com/watch?v=2YlHfcngY8Y</td>\n",
       "      <td>piazzasquare</td>\n",
       "      <td>2YlHfcngY8Y</td>\n",
       "    </tr>\n",
       "    <tr>\n",
       "      <th>2020-07-19 10:09:56.361000+00:00</th>\n",
       "      <td>3 Books that Changed my Life</td>\n",
       "      <td>https://www.youtube.com/watch?v=hv1gOEY3cs4</td>\n",
       "      <td>Ali Abdaal</td>\n",
       "      <td>hv1gOEY3cs4</td>\n",
       "    </tr>\n",
       "    <tr>\n",
       "      <th>2020-07-19 10:03:01.164000+00:00</th>\n",
       "      <td>Armie Hammer guides us through the Call Me By ...</td>\n",
       "      <td>https://www.youtube.com/watch?v=JU6QfohcnaY</td>\n",
       "      <td>British GQ</td>\n",
       "      <td>JU6QfohcnaY</td>\n",
       "    </tr>\n",
       "    <tr>\n",
       "      <th>2020-07-18 16:50:03.256000+00:00</th>\n",
       "      <td>Day in the Life as a Doctor (Gynaecology)</td>\n",
       "      <td>https://www.youtube.com/watch?v=cYyIpzlkq7E</td>\n",
       "      <td>Ali Abdaal</td>\n",
       "      <td>cYyIpzlkq7E</td>\n",
       "    </tr>\n",
       "  </tbody>\n",
       "</table>\n",
       "</div>"
      ],
      "text/plain": [
       "                                                                              title  \\\n",
       "time                                                                                  \n",
       "2020-07-19 10:15:29.344000+00:00        BEAUTIFUL BOY Cast and Crew Q&A | TIFF 2018   \n",
       "2020-07-19 10:10:58.736000+00:00    Come si usa la parola ANZI 2020 [ITA with SUBS]   \n",
       "2020-07-19 10:09:56.361000+00:00                       3 Books that Changed my Life   \n",
       "2020-07-19 10:03:01.164000+00:00  Armie Hammer guides us through the Call Me By ...   \n",
       "2020-07-18 16:50:03.256000+00:00          Day in the Life as a Doctor (Gynaecology)   \n",
       "\n",
       "                                                                     titleUrl  \\\n",
       "time                                                                            \n",
       "2020-07-19 10:15:29.344000+00:00  https://www.youtube.com/watch?v=lzAi4JNShxA   \n",
       "2020-07-19 10:10:58.736000+00:00  https://www.youtube.com/watch?v=2YlHfcngY8Y   \n",
       "2020-07-19 10:09:56.361000+00:00  https://www.youtube.com/watch?v=hv1gOEY3cs4   \n",
       "2020-07-19 10:03:01.164000+00:00  https://www.youtube.com/watch?v=JU6QfohcnaY   \n",
       "2020-07-18 16:50:03.256000+00:00  https://www.youtube.com/watch?v=cYyIpzlkq7E   \n",
       "\n",
       "                                       channel      titleID  \n",
       "time                                                         \n",
       "2020-07-19 10:15:29.344000+00:00    TIFF Talks  lzAi4JNShxA  \n",
       "2020-07-19 10:10:58.736000+00:00  piazzasquare  2YlHfcngY8Y  \n",
       "2020-07-19 10:09:56.361000+00:00    Ali Abdaal  hv1gOEY3cs4  \n",
       "2020-07-19 10:03:01.164000+00:00    British GQ  JU6QfohcnaY  \n",
       "2020-07-18 16:50:03.256000+00:00    Ali Abdaal  cYyIpzlkq7E  "
      ]
     },
     "execution_count": 17,
     "metadata": {},
     "output_type": "execute_result"
    }
   ],
   "source": [
    "hist[\"titleID\"] = hist[\"titleUrl\"].apply(lambda X: X.split(\"watch?v=\")[-1])\n",
    "\n",
    "hist.head()"
   ]
  },
  {
   "cell_type": "markdown",
   "metadata": {},
   "source": [
    "### Extract video metadata with API"
   ]
  },
  {
   "cell_type": "code",
   "execution_count": 18,
   "metadata": {},
   "outputs": [],
   "source": [
    "url = \"https://www.googleapis.com/youtube/v3/videos\""
   ]
  },
  {
   "cell_type": "code",
   "execution_count": 19,
   "metadata": {},
   "outputs": [
    {
     "data": {
      "text/plain": [
       "{'kind': 'youtube#videoListResponse',\n",
       " 'etag': 'k_7gm9s_XdWDUeGW4CQv1zeUjsQ',\n",
       " 'items': [{'kind': 'youtube#video',\n",
       "   'etag': '7Z0rYfAKfB9cg3Hhi0_Zq6opV0I',\n",
       "   'id': 'lzAi4JNShxA',\n",
       "   'contentDetails': {'duration': 'PT24M30S',\n",
       "    'dimension': '2d',\n",
       "    'definition': 'hd',\n",
       "    'caption': 'false',\n",
       "    'licensedContent': False,\n",
       "    'contentRating': {},\n",
       "    'projection': 'rectangular'}}],\n",
       " 'pageInfo': {'totalResults': 1, 'resultsPerPage': 1}}"
      ]
     },
     "execution_count": 19,
     "metadata": {},
     "output_type": "execute_result"
    }
   ],
   "source": [
    "# A little example to see the body of the response\n",
    "\n",
    "url = \"https://www.googleapis.com/youtube/v3/videos\"\n",
    "\n",
    "params = {\"part\":\"contentDetails\",\n",
    "          \"id\":\"lzAi4JNShxA\",\n",
    "          \"key\":token}\n",
    "\n",
    "requests.get(url,params=params).json()"
   ]
  },
  {
   "cell_type": "code",
   "execution_count": 20,
   "metadata": {},
   "outputs": [
    {
     "data": {
      "text/plain": [
       "'PT24M30S'"
      ]
     },
     "execution_count": 20,
     "metadata": {},
     "output_type": "execute_result"
    }
   ],
   "source": [
    "example_time = requests.get(url,params=params).json()[\"items\"][0][\"contentDetails\"][\"duration\"]\n",
    "\n",
    "example_time"
   ]
  },
  {
   "cell_type": "code",
   "execution_count": 76,
   "metadata": {},
   "outputs": [
    {
     "name": "stdout",
     "output_type": "stream",
     "text": [
      "1\n",
      "3\n",
      "54\n"
     ]
    }
   ],
   "source": [
    "# Cleaning the duration format with RegEx\n",
    "\n",
    "import re\n",
    "\n",
    "hours = re.search(pattern = '[0-9]{1,2}(?=H)', string = 'PT1H3M54S')\n",
    "minutes = re.search(pattern = '[0-9]{1,2}(?=M)', string = 'PT1H3M54S')\n",
    "seconds = re.search(pattern = '[0-9]{1,2}(?=S)', string = 'PT1H3M54S')\n",
    "\n",
    "print(hours.group(0))\n",
    "print(minutes.group(0))\n",
    "print(seconds.group(0))\n"
   ]
  },
  {
   "cell_type": "code",
   "execution_count": 101,
   "metadata": {},
   "outputs": [],
   "source": [
    "def get_duration(videoID):\n",
    "    url = \"https://www.googleapis.com/youtube/v3/videos\"\n",
    "    params = {\"part\":\"contentDetails\",\n",
    "              \"id\":videoID,\n",
    "              \"key\":token}\n",
    "    try:\n",
    "        response = requests.get(url,params=params).json()\n",
    "        return response[\"items\"][0][\"contentDetails\"][\"duration\"]\n",
    "    except Exception:\n",
    "        return \"\"\n",
    "    \n",
    "def duration_to_seconds(duration):\n",
    "    \n",
    "    hours = re.search(pattern = '[0-9]{1,2}(?=H)', string = duration).group(0) if \"H\" in duration else 0\n",
    "    minutes = re.search(pattern = '[0-9]{1,2}(?=M)', string = duration).group(0) if \"M\" in duration else 0\n",
    "    seconds = re.search(pattern = '[0-9]{1,2}(?=S)', string = duration).group(0) if \"S\" in duration else 0\n",
    "    \n",
    "    return int(hours) * 3600 + int(minutes) * 60 + int(seconds)"
   ]
  },
  {
   "cell_type": "code",
   "execution_count": 39,
   "metadata": {},
   "outputs": [
    {
     "data": {
      "text/html": [
       "<div>\n",
       "<style scoped>\n",
       "    .dataframe tbody tr th:only-of-type {\n",
       "        vertical-align: middle;\n",
       "    }\n",
       "\n",
       "    .dataframe tbody tr th {\n",
       "        vertical-align: top;\n",
       "    }\n",
       "\n",
       "    .dataframe thead th {\n",
       "        text-align: right;\n",
       "    }\n",
       "</style>\n",
       "<table border=\"1\" class=\"dataframe\">\n",
       "  <thead>\n",
       "    <tr style=\"text-align: right;\">\n",
       "      <th></th>\n",
       "      <th>title</th>\n",
       "      <th>titleUrl</th>\n",
       "      <th>channel</th>\n",
       "      <th>titleID</th>\n",
       "      <th>duration</th>\n",
       "    </tr>\n",
       "    <tr>\n",
       "      <th>time</th>\n",
       "      <th></th>\n",
       "      <th></th>\n",
       "      <th></th>\n",
       "      <th></th>\n",
       "      <th></th>\n",
       "    </tr>\n",
       "  </thead>\n",
       "  <tbody>\n",
       "    <tr>\n",
       "      <th>2020-07-19 10:15:29.344000+00:00</th>\n",
       "      <td>BEAUTIFUL BOY Cast and Crew Q&amp;A | TIFF 2018</td>\n",
       "      <td>https://www.youtube.com/watch?v=lzAi4JNShxA</td>\n",
       "      <td>TIFF Talks</td>\n",
       "      <td>lzAi4JNShxA</td>\n",
       "      <td>PT24M30S</td>\n",
       "    </tr>\n",
       "    <tr>\n",
       "      <th>2020-07-19 10:10:58.736000+00:00</th>\n",
       "      <td>Come si usa la parola ANZI 2020 [ITA with SUBS]</td>\n",
       "      <td>https://www.youtube.com/watch?v=2YlHfcngY8Y</td>\n",
       "      <td>piazzasquare</td>\n",
       "      <td>2YlHfcngY8Y</td>\n",
       "      <td>PT4M8S</td>\n",
       "    </tr>\n",
       "    <tr>\n",
       "      <th>2020-07-19 10:09:56.361000+00:00</th>\n",
       "      <td>3 Books that Changed my Life</td>\n",
       "      <td>https://www.youtube.com/watch?v=hv1gOEY3cs4</td>\n",
       "      <td>Ali Abdaal</td>\n",
       "      <td>hv1gOEY3cs4</td>\n",
       "      <td>PT14M40S</td>\n",
       "    </tr>\n",
       "    <tr>\n",
       "      <th>2020-07-19 10:03:01.164000+00:00</th>\n",
       "      <td>Armie Hammer guides us through the Call Me By ...</td>\n",
       "      <td>https://www.youtube.com/watch?v=JU6QfohcnaY</td>\n",
       "      <td>British GQ</td>\n",
       "      <td>JU6QfohcnaY</td>\n",
       "      <td>PT5M31S</td>\n",
       "    </tr>\n",
       "    <tr>\n",
       "      <th>2020-07-18 16:50:03.256000+00:00</th>\n",
       "      <td>Day in the Life as a Doctor (Gynaecology)</td>\n",
       "      <td>https://www.youtube.com/watch?v=cYyIpzlkq7E</td>\n",
       "      <td>Ali Abdaal</td>\n",
       "      <td>cYyIpzlkq7E</td>\n",
       "      <td>PT9M51S</td>\n",
       "    </tr>\n",
       "  </tbody>\n",
       "</table>\n",
       "</div>"
      ],
      "text/plain": [
       "                                                                              title  \\\n",
       "time                                                                                  \n",
       "2020-07-19 10:15:29.344000+00:00        BEAUTIFUL BOY Cast and Crew Q&A | TIFF 2018   \n",
       "2020-07-19 10:10:58.736000+00:00    Come si usa la parola ANZI 2020 [ITA with SUBS]   \n",
       "2020-07-19 10:09:56.361000+00:00                       3 Books that Changed my Life   \n",
       "2020-07-19 10:03:01.164000+00:00  Armie Hammer guides us through the Call Me By ...   \n",
       "2020-07-18 16:50:03.256000+00:00          Day in the Life as a Doctor (Gynaecology)   \n",
       "\n",
       "                                                                     titleUrl  \\\n",
       "time                                                                            \n",
       "2020-07-19 10:15:29.344000+00:00  https://www.youtube.com/watch?v=lzAi4JNShxA   \n",
       "2020-07-19 10:10:58.736000+00:00  https://www.youtube.com/watch?v=2YlHfcngY8Y   \n",
       "2020-07-19 10:09:56.361000+00:00  https://www.youtube.com/watch?v=hv1gOEY3cs4   \n",
       "2020-07-19 10:03:01.164000+00:00  https://www.youtube.com/watch?v=JU6QfohcnaY   \n",
       "2020-07-18 16:50:03.256000+00:00  https://www.youtube.com/watch?v=cYyIpzlkq7E   \n",
       "\n",
       "                                       channel      titleID  duration  \n",
       "time                                                                   \n",
       "2020-07-19 10:15:29.344000+00:00    TIFF Talks  lzAi4JNShxA  PT24M30S  \n",
       "2020-07-19 10:10:58.736000+00:00  piazzasquare  2YlHfcngY8Y    PT4M8S  \n",
       "2020-07-19 10:09:56.361000+00:00    Ali Abdaal  hv1gOEY3cs4  PT14M40S  \n",
       "2020-07-19 10:03:01.164000+00:00    British GQ  JU6QfohcnaY   PT5M31S  \n",
       "2020-07-18 16:50:03.256000+00:00    Ali Abdaal  cYyIpzlkq7E   PT9M51S  "
      ]
     },
     "execution_count": 39,
     "metadata": {},
     "output_type": "execute_result"
    }
   ],
   "source": [
    "#hist[\"duration\"] = hist[\"titleID\"].apply(get_duration)\n",
    "hist.head()"
   ]
  },
  {
   "cell_type": "code",
   "execution_count": 103,
   "metadata": {},
   "outputs": [
    {
     "data": {
      "text/html": [
       "<div>\n",
       "<style scoped>\n",
       "    .dataframe tbody tr th:only-of-type {\n",
       "        vertical-align: middle;\n",
       "    }\n",
       "\n",
       "    .dataframe tbody tr th {\n",
       "        vertical-align: top;\n",
       "    }\n",
       "\n",
       "    .dataframe thead th {\n",
       "        text-align: right;\n",
       "    }\n",
       "</style>\n",
       "<table border=\"1\" class=\"dataframe\">\n",
       "  <thead>\n",
       "    <tr style=\"text-align: right;\">\n",
       "      <th></th>\n",
       "      <th>title</th>\n",
       "      <th>titleUrl</th>\n",
       "      <th>channel</th>\n",
       "      <th>titleID</th>\n",
       "      <th>duration</th>\n",
       "    </tr>\n",
       "    <tr>\n",
       "      <th>time</th>\n",
       "      <th></th>\n",
       "      <th></th>\n",
       "      <th></th>\n",
       "      <th></th>\n",
       "      <th></th>\n",
       "    </tr>\n",
       "  </thead>\n",
       "  <tbody>\n",
       "    <tr>\n",
       "      <th>2020-07-19 10:15:29.344000+00:00</th>\n",
       "      <td>BEAUTIFUL BOY Cast and Crew Q&amp;A | TIFF 2018</td>\n",
       "      <td>https://www.youtube.com/watch?v=lzAi4JNShxA</td>\n",
       "      <td>TIFF Talks</td>\n",
       "      <td>lzAi4JNShxA</td>\n",
       "      <td>1470</td>\n",
       "    </tr>\n",
       "    <tr>\n",
       "      <th>2020-07-19 10:10:58.736000+00:00</th>\n",
       "      <td>Come si usa la parola ANZI 2020 [ITA with SUBS]</td>\n",
       "      <td>https://www.youtube.com/watch?v=2YlHfcngY8Y</td>\n",
       "      <td>piazzasquare</td>\n",
       "      <td>2YlHfcngY8Y</td>\n",
       "      <td>248</td>\n",
       "    </tr>\n",
       "    <tr>\n",
       "      <th>2020-07-19 10:09:56.361000+00:00</th>\n",
       "      <td>3 Books that Changed my Life</td>\n",
       "      <td>https://www.youtube.com/watch?v=hv1gOEY3cs4</td>\n",
       "      <td>Ali Abdaal</td>\n",
       "      <td>hv1gOEY3cs4</td>\n",
       "      <td>880</td>\n",
       "    </tr>\n",
       "    <tr>\n",
       "      <th>2020-07-19 10:03:01.164000+00:00</th>\n",
       "      <td>Armie Hammer guides us through the Call Me By ...</td>\n",
       "      <td>https://www.youtube.com/watch?v=JU6QfohcnaY</td>\n",
       "      <td>British GQ</td>\n",
       "      <td>JU6QfohcnaY</td>\n",
       "      <td>331</td>\n",
       "    </tr>\n",
       "    <tr>\n",
       "      <th>2020-07-18 16:50:03.256000+00:00</th>\n",
       "      <td>Day in the Life as a Doctor (Gynaecology)</td>\n",
       "      <td>https://www.youtube.com/watch?v=cYyIpzlkq7E</td>\n",
       "      <td>Ali Abdaal</td>\n",
       "      <td>cYyIpzlkq7E</td>\n",
       "      <td>591</td>\n",
       "    </tr>\n",
       "  </tbody>\n",
       "</table>\n",
       "</div>"
      ],
      "text/plain": [
       "                                                                              title  \\\n",
       "time                                                                                  \n",
       "2020-07-19 10:15:29.344000+00:00        BEAUTIFUL BOY Cast and Crew Q&A | TIFF 2018   \n",
       "2020-07-19 10:10:58.736000+00:00    Come si usa la parola ANZI 2020 [ITA with SUBS]   \n",
       "2020-07-19 10:09:56.361000+00:00                       3 Books that Changed my Life   \n",
       "2020-07-19 10:03:01.164000+00:00  Armie Hammer guides us through the Call Me By ...   \n",
       "2020-07-18 16:50:03.256000+00:00          Day in the Life as a Doctor (Gynaecology)   \n",
       "\n",
       "                                                                     titleUrl  \\\n",
       "time                                                                            \n",
       "2020-07-19 10:15:29.344000+00:00  https://www.youtube.com/watch?v=lzAi4JNShxA   \n",
       "2020-07-19 10:10:58.736000+00:00  https://www.youtube.com/watch?v=2YlHfcngY8Y   \n",
       "2020-07-19 10:09:56.361000+00:00  https://www.youtube.com/watch?v=hv1gOEY3cs4   \n",
       "2020-07-19 10:03:01.164000+00:00  https://www.youtube.com/watch?v=JU6QfohcnaY   \n",
       "2020-07-18 16:50:03.256000+00:00  https://www.youtube.com/watch?v=cYyIpzlkq7E   \n",
       "\n",
       "                                       channel      titleID  duration  \n",
       "time                                                                   \n",
       "2020-07-19 10:15:29.344000+00:00    TIFF Talks  lzAi4JNShxA      1470  \n",
       "2020-07-19 10:10:58.736000+00:00  piazzasquare  2YlHfcngY8Y       248  \n",
       "2020-07-19 10:09:56.361000+00:00    Ali Abdaal  hv1gOEY3cs4       880  \n",
       "2020-07-19 10:03:01.164000+00:00    British GQ  JU6QfohcnaY       331  \n",
       "2020-07-18 16:50:03.256000+00:00    Ali Abdaal  cYyIpzlkq7E       591  "
      ]
     },
     "execution_count": 103,
     "metadata": {},
     "output_type": "execute_result"
    }
   ],
   "source": [
    "hist[\"duration\"] = hist[\"duration\"].apply(duration_to_seconds)\n",
    "\n",
    "hist.head()"
   ]
  },
  {
   "cell_type": "code",
   "execution_count": 114,
   "metadata": {},
   "outputs": [
    {
     "name": "stdout",
     "output_type": "stream",
     "text": [
      "title       0\n",
      "titleUrl    0\n",
      "channel     0\n",
      "titleID     0\n",
      "duration    0\n",
      "dtype: int64\n",
      "Final DataFrame: \n",
      "\n",
      "title       0\n",
      "titleUrl    0\n",
      "channel     0\n",
      "titleID     0\n",
      "duration    0\n",
      "dtype: int64\n"
     ]
    }
   ],
   "source": [
    "print(hist.isna().sum()) # One record is NaN since the video is not available anymore\n",
    "\n",
    "hist.dropna(axis=0, inplace=True)\n",
    "\n",
    "print(\"Final DataFrame: \\n\")\n",
    "\n",
    "print(hist.isna().sum())"
   ]
  },
  {
   "cell_type": "code",
   "execution_count": 115,
   "metadata": {},
   "outputs": [],
   "source": [
    "hist.to_csv(\"output/last2weeks.csv\")"
   ]
  },
  {
   "cell_type": "markdown",
   "metadata": {},
   "source": [
    "## Data Visualization"
   ]
  },
  {
   "cell_type": "code",
   "execution_count": 122,
   "metadata": {},
   "outputs": [],
   "source": [
    "import matplotlib.pyplot as plt\n",
    "import mplcyberpunk\n",
    "\n",
    "plt.style.use(\"cyberpunk\")\n"
   ]
  },
  {
   "cell_type": "code",
   "execution_count": 123,
   "metadata": {},
   "outputs": [
    {
     "data": {
      "text/plain": [
       "{'28': DatetimeIndex(['2020-07-19 10:15:29.344000+00:00'], dtype='datetime64[ns, UTC]', name='time', freq=None)}"
      ]
     },
     "execution_count": 123,
     "metadata": {},
     "output_type": "execute_result"
    }
   ],
   "source": [
    "hist.index.groupby(\"28\")"
   ]
  },
  {
   "cell_type": "code",
   "execution_count": 121,
   "metadata": {},
   "outputs": [
    {
     "data": {
      "application/vnd.plotly.v1+json": {
       "config": {
        "plotlyServerURL": "https://plot.ly"
       },
       "data": [
        {
         "orientation": "h",
         "type": "bar",
         "x": [
          51,
          25
         ],
         "y": [
          "This week",
          "Last Week"
         ]
        }
       ],
       "layout": {
        "template": {
         "data": {
          "bar": [
           {
            "error_x": {
             "color": "#2a3f5f"
            },
            "error_y": {
             "color": "#2a3f5f"
            },
            "marker": {
             "line": {
              "color": "#E5ECF6",
              "width": 0.5
             }
            },
            "type": "bar"
           }
          ],
          "barpolar": [
           {
            "marker": {
             "line": {
              "color": "#E5ECF6",
              "width": 0.5
             }
            },
            "type": "barpolar"
           }
          ],
          "carpet": [
           {
            "aaxis": {
             "endlinecolor": "#2a3f5f",
             "gridcolor": "white",
             "linecolor": "white",
             "minorgridcolor": "white",
             "startlinecolor": "#2a3f5f"
            },
            "baxis": {
             "endlinecolor": "#2a3f5f",
             "gridcolor": "white",
             "linecolor": "white",
             "minorgridcolor": "white",
             "startlinecolor": "#2a3f5f"
            },
            "type": "carpet"
           }
          ],
          "choropleth": [
           {
            "colorbar": {
             "outlinewidth": 0,
             "ticks": ""
            },
            "type": "choropleth"
           }
          ],
          "contour": [
           {
            "colorbar": {
             "outlinewidth": 0,
             "ticks": ""
            },
            "colorscale": [
             [
              0,
              "#0d0887"
             ],
             [
              0.1111111111111111,
              "#46039f"
             ],
             [
              0.2222222222222222,
              "#7201a8"
             ],
             [
              0.3333333333333333,
              "#9c179e"
             ],
             [
              0.4444444444444444,
              "#bd3786"
             ],
             [
              0.5555555555555556,
              "#d8576b"
             ],
             [
              0.6666666666666666,
              "#ed7953"
             ],
             [
              0.7777777777777778,
              "#fb9f3a"
             ],
             [
              0.8888888888888888,
              "#fdca26"
             ],
             [
              1,
              "#f0f921"
             ]
            ],
            "type": "contour"
           }
          ],
          "contourcarpet": [
           {
            "colorbar": {
             "outlinewidth": 0,
             "ticks": ""
            },
            "type": "contourcarpet"
           }
          ],
          "heatmap": [
           {
            "colorbar": {
             "outlinewidth": 0,
             "ticks": ""
            },
            "colorscale": [
             [
              0,
              "#0d0887"
             ],
             [
              0.1111111111111111,
              "#46039f"
             ],
             [
              0.2222222222222222,
              "#7201a8"
             ],
             [
              0.3333333333333333,
              "#9c179e"
             ],
             [
              0.4444444444444444,
              "#bd3786"
             ],
             [
              0.5555555555555556,
              "#d8576b"
             ],
             [
              0.6666666666666666,
              "#ed7953"
             ],
             [
              0.7777777777777778,
              "#fb9f3a"
             ],
             [
              0.8888888888888888,
              "#fdca26"
             ],
             [
              1,
              "#f0f921"
             ]
            ],
            "type": "heatmap"
           }
          ],
          "heatmapgl": [
           {
            "colorbar": {
             "outlinewidth": 0,
             "ticks": ""
            },
            "colorscale": [
             [
              0,
              "#0d0887"
             ],
             [
              0.1111111111111111,
              "#46039f"
             ],
             [
              0.2222222222222222,
              "#7201a8"
             ],
             [
              0.3333333333333333,
              "#9c179e"
             ],
             [
              0.4444444444444444,
              "#bd3786"
             ],
             [
              0.5555555555555556,
              "#d8576b"
             ],
             [
              0.6666666666666666,
              "#ed7953"
             ],
             [
              0.7777777777777778,
              "#fb9f3a"
             ],
             [
              0.8888888888888888,
              "#fdca26"
             ],
             [
              1,
              "#f0f921"
             ]
            ],
            "type": "heatmapgl"
           }
          ],
          "histogram": [
           {
            "marker": {
             "colorbar": {
              "outlinewidth": 0,
              "ticks": ""
             }
            },
            "type": "histogram"
           }
          ],
          "histogram2d": [
           {
            "colorbar": {
             "outlinewidth": 0,
             "ticks": ""
            },
            "colorscale": [
             [
              0,
              "#0d0887"
             ],
             [
              0.1111111111111111,
              "#46039f"
             ],
             [
              0.2222222222222222,
              "#7201a8"
             ],
             [
              0.3333333333333333,
              "#9c179e"
             ],
             [
              0.4444444444444444,
              "#bd3786"
             ],
             [
              0.5555555555555556,
              "#d8576b"
             ],
             [
              0.6666666666666666,
              "#ed7953"
             ],
             [
              0.7777777777777778,
              "#fb9f3a"
             ],
             [
              0.8888888888888888,
              "#fdca26"
             ],
             [
              1,
              "#f0f921"
             ]
            ],
            "type": "histogram2d"
           }
          ],
          "histogram2dcontour": [
           {
            "colorbar": {
             "outlinewidth": 0,
             "ticks": ""
            },
            "colorscale": [
             [
              0,
              "#0d0887"
             ],
             [
              0.1111111111111111,
              "#46039f"
             ],
             [
              0.2222222222222222,
              "#7201a8"
             ],
             [
              0.3333333333333333,
              "#9c179e"
             ],
             [
              0.4444444444444444,
              "#bd3786"
             ],
             [
              0.5555555555555556,
              "#d8576b"
             ],
             [
              0.6666666666666666,
              "#ed7953"
             ],
             [
              0.7777777777777778,
              "#fb9f3a"
             ],
             [
              0.8888888888888888,
              "#fdca26"
             ],
             [
              1,
              "#f0f921"
             ]
            ],
            "type": "histogram2dcontour"
           }
          ],
          "mesh3d": [
           {
            "colorbar": {
             "outlinewidth": 0,
             "ticks": ""
            },
            "type": "mesh3d"
           }
          ],
          "parcoords": [
           {
            "line": {
             "colorbar": {
              "outlinewidth": 0,
              "ticks": ""
             }
            },
            "type": "parcoords"
           }
          ],
          "pie": [
           {
            "automargin": true,
            "type": "pie"
           }
          ],
          "scatter": [
           {
            "marker": {
             "colorbar": {
              "outlinewidth": 0,
              "ticks": ""
             }
            },
            "type": "scatter"
           }
          ],
          "scatter3d": [
           {
            "line": {
             "colorbar": {
              "outlinewidth": 0,
              "ticks": ""
             }
            },
            "marker": {
             "colorbar": {
              "outlinewidth": 0,
              "ticks": ""
             }
            },
            "type": "scatter3d"
           }
          ],
          "scattercarpet": [
           {
            "marker": {
             "colorbar": {
              "outlinewidth": 0,
              "ticks": ""
             }
            },
            "type": "scattercarpet"
           }
          ],
          "scattergeo": [
           {
            "marker": {
             "colorbar": {
              "outlinewidth": 0,
              "ticks": ""
             }
            },
            "type": "scattergeo"
           }
          ],
          "scattergl": [
           {
            "marker": {
             "colorbar": {
              "outlinewidth": 0,
              "ticks": ""
             }
            },
            "type": "scattergl"
           }
          ],
          "scattermapbox": [
           {
            "marker": {
             "colorbar": {
              "outlinewidth": 0,
              "ticks": ""
             }
            },
            "type": "scattermapbox"
           }
          ],
          "scatterpolar": [
           {
            "marker": {
             "colorbar": {
              "outlinewidth": 0,
              "ticks": ""
             }
            },
            "type": "scatterpolar"
           }
          ],
          "scatterpolargl": [
           {
            "marker": {
             "colorbar": {
              "outlinewidth": 0,
              "ticks": ""
             }
            },
            "type": "scatterpolargl"
           }
          ],
          "scatterternary": [
           {
            "marker": {
             "colorbar": {
              "outlinewidth": 0,
              "ticks": ""
             }
            },
            "type": "scatterternary"
           }
          ],
          "surface": [
           {
            "colorbar": {
             "outlinewidth": 0,
             "ticks": ""
            },
            "colorscale": [
             [
              0,
              "#0d0887"
             ],
             [
              0.1111111111111111,
              "#46039f"
             ],
             [
              0.2222222222222222,
              "#7201a8"
             ],
             [
              0.3333333333333333,
              "#9c179e"
             ],
             [
              0.4444444444444444,
              "#bd3786"
             ],
             [
              0.5555555555555556,
              "#d8576b"
             ],
             [
              0.6666666666666666,
              "#ed7953"
             ],
             [
              0.7777777777777778,
              "#fb9f3a"
             ],
             [
              0.8888888888888888,
              "#fdca26"
             ],
             [
              1,
              "#f0f921"
             ]
            ],
            "type": "surface"
           }
          ],
          "table": [
           {
            "cells": {
             "fill": {
              "color": "#EBF0F8"
             },
             "line": {
              "color": "white"
             }
            },
            "header": {
             "fill": {
              "color": "#C8D4E3"
             },
             "line": {
              "color": "white"
             }
            },
            "type": "table"
           }
          ]
         },
         "layout": {
          "annotationdefaults": {
           "arrowcolor": "#2a3f5f",
           "arrowhead": 0,
           "arrowwidth": 1
          },
          "coloraxis": {
           "colorbar": {
            "outlinewidth": 0,
            "ticks": ""
           }
          },
          "colorscale": {
           "diverging": [
            [
             0,
             "#8e0152"
            ],
            [
             0.1,
             "#c51b7d"
            ],
            [
             0.2,
             "#de77ae"
            ],
            [
             0.3,
             "#f1b6da"
            ],
            [
             0.4,
             "#fde0ef"
            ],
            [
             0.5,
             "#f7f7f7"
            ],
            [
             0.6,
             "#e6f5d0"
            ],
            [
             0.7,
             "#b8e186"
            ],
            [
             0.8,
             "#7fbc41"
            ],
            [
             0.9,
             "#4d9221"
            ],
            [
             1,
             "#276419"
            ]
           ],
           "sequential": [
            [
             0,
             "#0d0887"
            ],
            [
             0.1111111111111111,
             "#46039f"
            ],
            [
             0.2222222222222222,
             "#7201a8"
            ],
            [
             0.3333333333333333,
             "#9c179e"
            ],
            [
             0.4444444444444444,
             "#bd3786"
            ],
            [
             0.5555555555555556,
             "#d8576b"
            ],
            [
             0.6666666666666666,
             "#ed7953"
            ],
            [
             0.7777777777777778,
             "#fb9f3a"
            ],
            [
             0.8888888888888888,
             "#fdca26"
            ],
            [
             1,
             "#f0f921"
            ]
           ],
           "sequentialminus": [
            [
             0,
             "#0d0887"
            ],
            [
             0.1111111111111111,
             "#46039f"
            ],
            [
             0.2222222222222222,
             "#7201a8"
            ],
            [
             0.3333333333333333,
             "#9c179e"
            ],
            [
             0.4444444444444444,
             "#bd3786"
            ],
            [
             0.5555555555555556,
             "#d8576b"
            ],
            [
             0.6666666666666666,
             "#ed7953"
            ],
            [
             0.7777777777777778,
             "#fb9f3a"
            ],
            [
             0.8888888888888888,
             "#fdca26"
            ],
            [
             1,
             "#f0f921"
            ]
           ]
          },
          "colorway": [
           "#636efa",
           "#EF553B",
           "#00cc96",
           "#ab63fa",
           "#FFA15A",
           "#19d3f3",
           "#FF6692",
           "#B6E880",
           "#FF97FF",
           "#FECB52"
          ],
          "font": {
           "color": "#2a3f5f"
          },
          "geo": {
           "bgcolor": "white",
           "lakecolor": "white",
           "landcolor": "#E5ECF6",
           "showlakes": true,
           "showland": true,
           "subunitcolor": "white"
          },
          "hoverlabel": {
           "align": "left"
          },
          "hovermode": "closest",
          "mapbox": {
           "style": "light"
          },
          "paper_bgcolor": "white",
          "plot_bgcolor": "#E5ECF6",
          "polar": {
           "angularaxis": {
            "gridcolor": "white",
            "linecolor": "white",
            "ticks": ""
           },
           "bgcolor": "#E5ECF6",
           "radialaxis": {
            "gridcolor": "white",
            "linecolor": "white",
            "ticks": ""
           }
          },
          "scene": {
           "xaxis": {
            "backgroundcolor": "#E5ECF6",
            "gridcolor": "white",
            "gridwidth": 2,
            "linecolor": "white",
            "showbackground": true,
            "ticks": "",
            "zerolinecolor": "white"
           },
           "yaxis": {
            "backgroundcolor": "#E5ECF6",
            "gridcolor": "white",
            "gridwidth": 2,
            "linecolor": "white",
            "showbackground": true,
            "ticks": "",
            "zerolinecolor": "white"
           },
           "zaxis": {
            "backgroundcolor": "#E5ECF6",
            "gridcolor": "white",
            "gridwidth": 2,
            "linecolor": "white",
            "showbackground": true,
            "ticks": "",
            "zerolinecolor": "white"
           }
          },
          "shapedefaults": {
           "line": {
            "color": "#2a3f5f"
           }
          },
          "ternary": {
           "aaxis": {
            "gridcolor": "white",
            "linecolor": "white",
            "ticks": ""
           },
           "baxis": {
            "gridcolor": "white",
            "linecolor": "white",
            "ticks": ""
           },
           "bgcolor": "#E5ECF6",
           "caxis": {
            "gridcolor": "white",
            "linecolor": "white",
            "ticks": ""
           }
          },
          "title": {
           "x": 0.05
          },
          "xaxis": {
           "automargin": true,
           "gridcolor": "white",
           "linecolor": "white",
           "ticks": "",
           "title": {
            "standoff": 15
           },
           "zerolinecolor": "white",
           "zerolinewidth": 2
          },
          "yaxis": {
           "automargin": true,
           "gridcolor": "white",
           "linecolor": "white",
           "ticks": "",
           "title": {
            "standoff": 15
           },
           "zerolinecolor": "white",
           "zerolinewidth": 2
          }
         }
        }
       }
      },
      "text/html": [
       "<div>\n",
       "        \n",
       "        \n",
       "            <div id=\"2760f308-e273-4291-aada-1a05e260856d\" class=\"plotly-graph-div\" style=\"height:525px; width:100%;\"></div>\n",
       "            <script type=\"text/javascript\">\n",
       "                require([\"plotly\"], function(Plotly) {\n",
       "                    window.PLOTLYENV=window.PLOTLYENV || {};\n",
       "                    \n",
       "                if (document.getElementById(\"2760f308-e273-4291-aada-1a05e260856d\")) {\n",
       "                    Plotly.newPlot(\n",
       "                        '2760f308-e273-4291-aada-1a05e260856d',\n",
       "                        [{\"orientation\": \"h\", \"type\": \"bar\", \"x\": [51, 25], \"y\": [\"This week\", \"Last Week\"]}],\n",
       "                        {\"template\": {\"data\": {\"bar\": [{\"error_x\": {\"color\": \"#2a3f5f\"}, \"error_y\": {\"color\": \"#2a3f5f\"}, \"marker\": {\"line\": {\"color\": \"#E5ECF6\", \"width\": 0.5}}, \"type\": \"bar\"}], \"barpolar\": [{\"marker\": {\"line\": {\"color\": \"#E5ECF6\", \"width\": 0.5}}, \"type\": \"barpolar\"}], \"carpet\": [{\"aaxis\": {\"endlinecolor\": \"#2a3f5f\", \"gridcolor\": \"white\", \"linecolor\": \"white\", \"minorgridcolor\": \"white\", \"startlinecolor\": \"#2a3f5f\"}, \"baxis\": {\"endlinecolor\": \"#2a3f5f\", \"gridcolor\": \"white\", \"linecolor\": \"white\", \"minorgridcolor\": \"white\", \"startlinecolor\": \"#2a3f5f\"}, \"type\": \"carpet\"}], \"choropleth\": [{\"colorbar\": {\"outlinewidth\": 0, \"ticks\": \"\"}, \"type\": \"choropleth\"}], \"contour\": [{\"colorbar\": {\"outlinewidth\": 0, \"ticks\": \"\"}, \"colorscale\": [[0.0, \"#0d0887\"], [0.1111111111111111, \"#46039f\"], [0.2222222222222222, \"#7201a8\"], [0.3333333333333333, \"#9c179e\"], [0.4444444444444444, \"#bd3786\"], [0.5555555555555556, \"#d8576b\"], [0.6666666666666666, \"#ed7953\"], [0.7777777777777778, \"#fb9f3a\"], [0.8888888888888888, \"#fdca26\"], [1.0, \"#f0f921\"]], \"type\": \"contour\"}], \"contourcarpet\": [{\"colorbar\": {\"outlinewidth\": 0, \"ticks\": \"\"}, \"type\": \"contourcarpet\"}], \"heatmap\": [{\"colorbar\": {\"outlinewidth\": 0, \"ticks\": \"\"}, \"colorscale\": [[0.0, \"#0d0887\"], [0.1111111111111111, \"#46039f\"], [0.2222222222222222, \"#7201a8\"], [0.3333333333333333, \"#9c179e\"], [0.4444444444444444, \"#bd3786\"], [0.5555555555555556, \"#d8576b\"], [0.6666666666666666, \"#ed7953\"], [0.7777777777777778, \"#fb9f3a\"], [0.8888888888888888, \"#fdca26\"], [1.0, \"#f0f921\"]], \"type\": \"heatmap\"}], \"heatmapgl\": [{\"colorbar\": {\"outlinewidth\": 0, \"ticks\": \"\"}, \"colorscale\": [[0.0, \"#0d0887\"], [0.1111111111111111, \"#46039f\"], [0.2222222222222222, \"#7201a8\"], [0.3333333333333333, \"#9c179e\"], [0.4444444444444444, \"#bd3786\"], [0.5555555555555556, \"#d8576b\"], [0.6666666666666666, \"#ed7953\"], [0.7777777777777778, \"#fb9f3a\"], [0.8888888888888888, \"#fdca26\"], [1.0, \"#f0f921\"]], \"type\": \"heatmapgl\"}], \"histogram\": [{\"marker\": {\"colorbar\": {\"outlinewidth\": 0, \"ticks\": \"\"}}, \"type\": \"histogram\"}], \"histogram2d\": [{\"colorbar\": {\"outlinewidth\": 0, \"ticks\": \"\"}, \"colorscale\": [[0.0, \"#0d0887\"], [0.1111111111111111, \"#46039f\"], [0.2222222222222222, \"#7201a8\"], [0.3333333333333333, \"#9c179e\"], [0.4444444444444444, \"#bd3786\"], [0.5555555555555556, \"#d8576b\"], [0.6666666666666666, \"#ed7953\"], [0.7777777777777778, \"#fb9f3a\"], [0.8888888888888888, \"#fdca26\"], [1.0, \"#f0f921\"]], \"type\": \"histogram2d\"}], \"histogram2dcontour\": [{\"colorbar\": {\"outlinewidth\": 0, \"ticks\": \"\"}, \"colorscale\": [[0.0, \"#0d0887\"], [0.1111111111111111, \"#46039f\"], [0.2222222222222222, \"#7201a8\"], [0.3333333333333333, \"#9c179e\"], [0.4444444444444444, \"#bd3786\"], [0.5555555555555556, \"#d8576b\"], [0.6666666666666666, \"#ed7953\"], [0.7777777777777778, \"#fb9f3a\"], [0.8888888888888888, \"#fdca26\"], [1.0, \"#f0f921\"]], \"type\": \"histogram2dcontour\"}], \"mesh3d\": [{\"colorbar\": {\"outlinewidth\": 0, \"ticks\": \"\"}, \"type\": \"mesh3d\"}], \"parcoords\": [{\"line\": {\"colorbar\": {\"outlinewidth\": 0, \"ticks\": \"\"}}, \"type\": \"parcoords\"}], \"pie\": [{\"automargin\": true, \"type\": \"pie\"}], \"scatter\": [{\"marker\": {\"colorbar\": {\"outlinewidth\": 0, \"ticks\": \"\"}}, \"type\": \"scatter\"}], \"scatter3d\": [{\"line\": {\"colorbar\": {\"outlinewidth\": 0, \"ticks\": \"\"}}, \"marker\": {\"colorbar\": {\"outlinewidth\": 0, \"ticks\": \"\"}}, \"type\": \"scatter3d\"}], \"scattercarpet\": [{\"marker\": {\"colorbar\": {\"outlinewidth\": 0, \"ticks\": \"\"}}, \"type\": \"scattercarpet\"}], \"scattergeo\": [{\"marker\": {\"colorbar\": {\"outlinewidth\": 0, \"ticks\": \"\"}}, \"type\": \"scattergeo\"}], \"scattergl\": [{\"marker\": {\"colorbar\": {\"outlinewidth\": 0, \"ticks\": \"\"}}, \"type\": \"scattergl\"}], \"scattermapbox\": [{\"marker\": {\"colorbar\": {\"outlinewidth\": 0, \"ticks\": \"\"}}, \"type\": \"scattermapbox\"}], \"scatterpolar\": [{\"marker\": {\"colorbar\": {\"outlinewidth\": 0, \"ticks\": \"\"}}, \"type\": \"scatterpolar\"}], \"scatterpolargl\": [{\"marker\": {\"colorbar\": {\"outlinewidth\": 0, \"ticks\": \"\"}}, \"type\": \"scatterpolargl\"}], \"scatterternary\": [{\"marker\": {\"colorbar\": {\"outlinewidth\": 0, \"ticks\": \"\"}}, \"type\": \"scatterternary\"}], \"surface\": [{\"colorbar\": {\"outlinewidth\": 0, \"ticks\": \"\"}, \"colorscale\": [[0.0, \"#0d0887\"], [0.1111111111111111, \"#46039f\"], [0.2222222222222222, \"#7201a8\"], [0.3333333333333333, \"#9c179e\"], [0.4444444444444444, \"#bd3786\"], [0.5555555555555556, \"#d8576b\"], [0.6666666666666666, \"#ed7953\"], [0.7777777777777778, \"#fb9f3a\"], [0.8888888888888888, \"#fdca26\"], [1.0, \"#f0f921\"]], \"type\": \"surface\"}], \"table\": [{\"cells\": {\"fill\": {\"color\": \"#EBF0F8\"}, \"line\": {\"color\": \"white\"}}, \"header\": {\"fill\": {\"color\": \"#C8D4E3\"}, \"line\": {\"color\": \"white\"}}, \"type\": \"table\"}]}, \"layout\": {\"annotationdefaults\": {\"arrowcolor\": \"#2a3f5f\", \"arrowhead\": 0, \"arrowwidth\": 1}, \"coloraxis\": {\"colorbar\": {\"outlinewidth\": 0, \"ticks\": \"\"}}, \"colorscale\": {\"diverging\": [[0, \"#8e0152\"], [0.1, \"#c51b7d\"], [0.2, \"#de77ae\"], [0.3, \"#f1b6da\"], [0.4, \"#fde0ef\"], [0.5, \"#f7f7f7\"], [0.6, \"#e6f5d0\"], [0.7, \"#b8e186\"], [0.8, \"#7fbc41\"], [0.9, \"#4d9221\"], [1, \"#276419\"]], \"sequential\": [[0.0, \"#0d0887\"], [0.1111111111111111, \"#46039f\"], [0.2222222222222222, \"#7201a8\"], [0.3333333333333333, \"#9c179e\"], [0.4444444444444444, \"#bd3786\"], [0.5555555555555556, \"#d8576b\"], [0.6666666666666666, \"#ed7953\"], [0.7777777777777778, \"#fb9f3a\"], [0.8888888888888888, \"#fdca26\"], [1.0, \"#f0f921\"]], \"sequentialminus\": [[0.0, \"#0d0887\"], [0.1111111111111111, \"#46039f\"], [0.2222222222222222, \"#7201a8\"], [0.3333333333333333, \"#9c179e\"], [0.4444444444444444, \"#bd3786\"], [0.5555555555555556, \"#d8576b\"], [0.6666666666666666, \"#ed7953\"], [0.7777777777777778, \"#fb9f3a\"], [0.8888888888888888, \"#fdca26\"], [1.0, \"#f0f921\"]]}, \"colorway\": [\"#636efa\", \"#EF553B\", \"#00cc96\", \"#ab63fa\", \"#FFA15A\", \"#19d3f3\", \"#FF6692\", \"#B6E880\", \"#FF97FF\", \"#FECB52\"], \"font\": {\"color\": \"#2a3f5f\"}, \"geo\": {\"bgcolor\": \"white\", \"lakecolor\": \"white\", \"landcolor\": \"#E5ECF6\", \"showlakes\": true, \"showland\": true, \"subunitcolor\": \"white\"}, \"hoverlabel\": {\"align\": \"left\"}, \"hovermode\": \"closest\", \"mapbox\": {\"style\": \"light\"}, \"paper_bgcolor\": \"white\", \"plot_bgcolor\": \"#E5ECF6\", \"polar\": {\"angularaxis\": {\"gridcolor\": \"white\", \"linecolor\": \"white\", \"ticks\": \"\"}, \"bgcolor\": \"#E5ECF6\", \"radialaxis\": {\"gridcolor\": \"white\", \"linecolor\": \"white\", \"ticks\": \"\"}}, \"scene\": {\"xaxis\": {\"backgroundcolor\": \"#E5ECF6\", \"gridcolor\": \"white\", \"gridwidth\": 2, \"linecolor\": \"white\", \"showbackground\": true, \"ticks\": \"\", \"zerolinecolor\": \"white\"}, \"yaxis\": {\"backgroundcolor\": \"#E5ECF6\", \"gridcolor\": \"white\", \"gridwidth\": 2, \"linecolor\": \"white\", \"showbackground\": true, \"ticks\": \"\", \"zerolinecolor\": \"white\"}, \"zaxis\": {\"backgroundcolor\": \"#E5ECF6\", \"gridcolor\": \"white\", \"gridwidth\": 2, \"linecolor\": \"white\", \"showbackground\": true, \"ticks\": \"\", \"zerolinecolor\": \"white\"}}, \"shapedefaults\": {\"line\": {\"color\": \"#2a3f5f\"}}, \"ternary\": {\"aaxis\": {\"gridcolor\": \"white\", \"linecolor\": \"white\", \"ticks\": \"\"}, \"baxis\": {\"gridcolor\": \"white\", \"linecolor\": \"white\", \"ticks\": \"\"}, \"bgcolor\": \"#E5ECF6\", \"caxis\": {\"gridcolor\": \"white\", \"linecolor\": \"white\", \"ticks\": \"\"}}, \"title\": {\"x\": 0.05}, \"xaxis\": {\"automargin\": true, \"gridcolor\": \"white\", \"linecolor\": \"white\", \"ticks\": \"\", \"title\": {\"standoff\": 15}, \"zerolinecolor\": \"white\", \"zerolinewidth\": 2}, \"yaxis\": {\"automargin\": true, \"gridcolor\": \"white\", \"linecolor\": \"white\", \"ticks\": \"\", \"title\": {\"standoff\": 15}, \"zerolinecolor\": \"white\", \"zerolinewidth\": 2}}}},\n",
       "                        {\"responsive\": true}\n",
       "                    ).then(function(){\n",
       "                            \n",
       "var gd = document.getElementById('2760f308-e273-4291-aada-1a05e260856d');\n",
       "var x = new MutationObserver(function (mutations, observer) {{\n",
       "        var display = window.getComputedStyle(gd).display;\n",
       "        if (!display || display === 'none') {{\n",
       "            console.log([gd, 'removed!']);\n",
       "            Plotly.purge(gd);\n",
       "            observer.disconnect();\n",
       "        }}\n",
       "}});\n",
       "\n",
       "// Listen for the removal of the full notebook cells\n",
       "var notebookContainer = gd.closest('#notebook-container');\n",
       "if (notebookContainer) {{\n",
       "    x.observe(notebookContainer, {childList: true});\n",
       "}}\n",
       "\n",
       "// Listen for the clearing of the current output cell\n",
       "var outputEl = gd.closest('.output');\n",
       "if (outputEl) {{\n",
       "    x.observe(outputEl, {childList: true});\n",
       "}}\n",
       "\n",
       "                        })\n",
       "                };\n",
       "                });\n",
       "            </script>\n",
       "        </div>"
      ]
     },
     "metadata": {},
     "output_type": "display_data"
    }
   ],
   "source": [
    "import plotly.graph_objects as go\n",
    "\n",
    "fig = go.Figure(go.Bar(\n",
    "            x=hist.index.week.value_counts(),\n",
    "            y=[\"This week\", \"Last Week\"],\n",
    "            orientation='h'))\n",
    "\n",
    "fig.show()"
   ]
  },
  {
   "cell_type": "code",
   "execution_count": 25,
   "metadata": {},
   "outputs": [
    {
     "ename": "NameError",
     "evalue": "name 'index' is not defined",
     "output_type": "error",
     "traceback": [
      "\u001b[0;31m---------------------------------------------------------------------------\u001b[0m",
      "\u001b[0;31mNameError\u001b[0m                                 Traceback (most recent call last)",
      "\u001b[0;32m<ipython-input-25-eaa129f30731>\u001b[0m in \u001b[0;36m<module>\u001b[0;34m\u001b[0m\n\u001b[1;32m      1\u001b[0m \u001b[0;32mimport\u001b[0m \u001b[0mplotly\u001b[0m\u001b[0;34m.\u001b[0m\u001b[0mexpress\u001b[0m \u001b[0;32mas\u001b[0m \u001b[0mpx\u001b[0m\u001b[0;34m\u001b[0m\u001b[0;34m\u001b[0m\u001b[0m\n\u001b[1;32m      2\u001b[0m \u001b[0mdf\u001b[0m \u001b[0;34m=\u001b[0m \u001b[0mpx\u001b[0m\u001b[0;34m.\u001b[0m\u001b[0mdata\u001b[0m\u001b[0;34m.\u001b[0m\u001b[0mtips\u001b[0m\u001b[0;34m(\u001b[0m\u001b[0;34m)\u001b[0m\u001b[0;34m\u001b[0m\u001b[0;34m\u001b[0m\u001b[0m\n\u001b[0;32m----> 3\u001b[0;31m fig = px.bar(hist, x=index, y=\"index\", color='day', orientation='h',\n\u001b[0m\u001b[1;32m      4\u001b[0m              \u001b[0mhover_data\u001b[0m\u001b[0;34m=\u001b[0m\u001b[0;34m\"channel\"\u001b[0m\u001b[0;34m,\u001b[0m\u001b[0;34m\u001b[0m\u001b[0;34m\u001b[0m\u001b[0m\n\u001b[1;32m      5\u001b[0m              \u001b[0mheight\u001b[0m\u001b[0;34m=\u001b[0m\u001b[0;36m400\u001b[0m\u001b[0;34m,\u001b[0m\u001b[0;34m\u001b[0m\u001b[0;34m\u001b[0m\u001b[0m\n",
      "\u001b[0;31mNameError\u001b[0m: name 'index' is not defined"
     ]
    }
   ],
   "source": [
    "import plotly.express as px\n",
    "df = px.data.tips()\n",
    "fig = px.bar(hist, x=index, y=\"index\", color='day', orientation='h',\n",
    "             hover_data=\"channel\",\n",
    "             height=400,\n",
    "             title='Prueba')\n",
    "fig.show()"
   ]
  },
  {
   "cell_type": "code",
   "execution_count": null,
   "metadata": {},
   "outputs": [],
   "source": []
  }
 ],
 "metadata": {
  "kernelspec": {
   "display_name": "Python 3",
   "language": "python",
   "name": "python3"
  },
  "language_info": {
   "codemirror_mode": {
    "name": "ipython",
    "version": 3
   },
   "file_extension": ".py",
   "mimetype": "text/x-python",
   "name": "python",
   "nbconvert_exporter": "python",
   "pygments_lexer": "ipython3",
   "version": "3.8.3"
  }
 },
 "nbformat": 4,
 "nbformat_minor": 4
}
